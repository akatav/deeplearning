{
 "cells": [
  {
   "cell_type": "code",
   "execution_count": 1,
   "metadata": {},
   "outputs": [
    {
     "name": "stdout",
     "output_type": "stream",
     "text": [
      "(22314, 13)\n",
      "(20082, 13) (20082, 1)\n",
      "(2232, 13) (2232, 1)\n"
     ]
    }
   ],
   "source": [
    "import tensorflow as tf\n",
    "import pandas as pd\n",
    "\n",
    "# Read csv file, select input variables\n",
    "data=pd.read_csv('WFR_PTINR_Sev_5days_bwt_ht_BSA_20200212.csv')\n",
    "data_select=data[['sex','age','bwt','ht','PTINR_1','PTINR_2','PTINR_3','PTINR_4','WFR_1','WFR_2','WFR_3','WFR_4', 'BSA']]\n",
    "print(data_select.shape)\n",
    "\n",
    "# split 90% to training, 10% test\n",
    "from sklearn.model_selection import train_test_split\n",
    "X_train,X_test,Y_train,Y_test=train_test_split(data_select.values, data[['PTINR_5']].values, test_size=0.1, random_state=0)\n",
    "print(X_train.shape, Y_train.shape)\n",
    "print(X_test.shape,Y_test.shape)\n",
    "\n",
    "# normalize output variable by max value\n",
    "trainanswers=Y_train/max(Y_train)\n",
    "testanswers=Y_test/max(Y_test)"
   ]
  },
  {
   "cell_type": "code",
   "execution_count": 4,
   "metadata": {},
   "outputs": [],
   "source": [
    "# Minmax scaling of inputs\n",
    "from sklearn.preprocessing import MinMaxScaler\n",
    "cs = MinMaxScaler()\n",
    "trainContinuous = cs.fit_transform(X_train)\n",
    "testContinuous = cs.fit_transform(X_test)"
   ]
  },
  {
   "cell_type": "code",
   "execution_count": 5,
   "metadata": {},
   "outputs": [],
   "source": [
    "trainContinuous=pd.DataFrame(trainContinuous, columns=['sex','age','bwt','ht','PTINR_1','PTINR_2','PTINR_3','PTINR_4','WFR_1','WFR_2','WFR_3','WFR_4', 'BSA'])\n",
    "testContinuous=pd.DataFrame(testContinuous, columns=['sex','age','bwt','ht','PTINR_1','PTINR_2','PTINR_3','PTINR_4','WFR_1','WFR_2','WFR_3','WFR_4', 'BSA'])\n"
   ]
  },
  {
   "cell_type": "code",
   "execution_count": 6,
   "metadata": {},
   "outputs": [
    {
     "data": {
      "text/plain": [
       "TensorShape([20082, 4, 2])"
      ]
     },
     "execution_count": 6,
     "metadata": {},
     "output_type": "execute_result"
    }
   ],
   "source": [
    "# data1 is input to dense layer networks, data2 is input to LSTM networks\n",
    "data1=trainContinuous[['sex','age','bwt', 'ht', 'BSA']]\n",
    "data2=trainContinuous[['PTINR_1', 'PTINR_2', 'PTINR_3','PTINR_4','WFR_1','WFR_2','WFR_3','WFR_4']]\n",
    "\n",
    "#convert to tensor and reshape\n",
    "data1_tf=tf.convert_to_tensor(data1)\n",
    "data2_tf=tf.convert_to_tensor(data2)\n",
    "data2_tf=tf.reshape(data2_tf, shape=[20082,4,2])\n",
    "\n",
    "data2_tf.shape"
   ]
  },
  {
   "cell_type": "code",
   "execution_count": 7,
   "metadata": {},
   "outputs": [
    {
     "data": {
      "text/plain": [
       "TensorShape([20082, 1])"
      ]
     },
     "execution_count": 7,
     "metadata": {},
     "output_type": "execute_result"
    }
   ],
   "source": [
    "# convert outputs to tensors and reshape\n",
    "trainanswers_tf=tf.convert_to_tensor(trainanswers)\n",
    "trainanswers_tf=tf.reshape(trainanswers_tf,shape=[20082,1])\n",
    "trainanswers_tf.shape"
   ]
  },
  {
   "cell_type": "code",
   "execution_count": 8,
   "metadata": {},
   "outputs": [
    {
     "data": {
      "text/plain": [
       "TensorShape([2232, 4, 2])"
      ]
     },
     "execution_count": 8,
     "metadata": {},
     "output_type": "execute_result"
    }
   ],
   "source": [
    "# tensors of test data\n",
    "data1=testContinuous[['sex','age','bwt', 'ht', 'BSA']]\n",
    "data2=testContinuous[['PTINR_1', 'PTINR_2', 'PTINR_3','PTINR_4','WFR_1','WFR_2','WFR_3','WFR_4']]\n",
    "\n",
    "testdata1_tf=tf.convert_to_tensor(data1)\n",
    "testdata2_tf=tf.convert_to_tensor(data2)\n",
    "testdata2_tf=tf.reshape(testdata2_tf, shape=[2232,4,2])\n",
    "\n",
    "testdata2_tf.shape"
   ]
  },
  {
   "cell_type": "code",
   "execution_count": 9,
   "metadata": {},
   "outputs": [
    {
     "data": {
      "text/plain": [
       "TensorShape([2232, 1])"
      ]
     },
     "execution_count": 9,
     "metadata": {},
     "output_type": "execute_result"
    }
   ],
   "source": [
    "testanswers_tf=tf.convert_to_tensor(testanswers)\n",
    "testanswers_tf=tf.reshape(testanswers_tf,shape=[2232,1])\n",
    "testanswers_tf.shape"
   ]
  },
  {
   "cell_type": "code",
   "execution_count": 15,
   "metadata": {},
   "outputs": [],
   "source": [
    "# inputA is input to dense layer networks, inputB is input to LSTM networks\n",
    "# construct model\n",
    "inputA = tf.keras.Input(batch_input_shape=(None,5))\n",
    "inputB = tf.keras.Input(batch_input_shape=(None,4,2))\n",
    "# the first branch operates on the first input\n",
    "x=tf.keras.layers.Dense(units=5, activation='relu', name='denselayer1')(inputA)\n",
    "x=tf.keras.layers.Dense(units=16, activation='relu',  name='denselayer2')(x)\n",
    "x=tf.keras.layers.Dense(units=16, activation='relu', name='denselayer3')(x)\n",
    "x=tf.keras.layers.Dense(units=16, activation='relu', name='denselayer4')(x)\n",
    "x=tf.keras.Model(inputs=inputA, outputs=x)\n",
    "\n",
    "# the second branch opreates on the second input\n",
    "y=tf.keras.layers.LSTM(units=32, return_sequences=True, name='lstm_1')(inputB)\n",
    "y=tf.keras.layers.LSTM(units=32, return_sequences=True, name='lstm_2')(y)\n",
    "y=tf.keras.layers.LSTM(units=32, return_sequences=True, name='lstm_3')(y)\n",
    "y=tf.keras.layers.LSTM(units=32, name='lstm_4')(y)\n",
    "y=tf.keras.layers.Dense(units=32, name=\"denselayer_after_lstm_1\")(y)\n",
    "y =tf.keras.Model(inputs=inputB, outputs=y)\n",
    "\n",
    "# combine the output of the two branches\n",
    "combined = tf.keras.layers.concatenate([x.output, y.output])\n",
    "# apply dense layers and then a regression prediction on the\n",
    "# combined outputs\n",
    "z = tf.keras.layers.Dense(48, activation=\"relu\")(combined)\n",
    "z = tf.keras.layers.Dense(32, activation=\"relu\")(z)\n",
    "z = tf.keras.layers.Dense(32, activation=\"relu\")(z)\n",
    "z = tf.keras.layers.Dense(1, activation='relu')(z)\n",
    "\n",
    "# our model will accept the inputs of the two branches and\n",
    "# then output a single value\n",
    "model = tf.keras.Model(inputs=[x.input, y.input], outputs=z)"
   ]
  },
  {
   "cell_type": "code",
   "execution_count": 16,
   "metadata": {},
   "outputs": [
    {
     "name": "stdout",
     "output_type": "stream",
     "text": [
      "Model: \"functional_11\"\n",
      "__________________________________________________________________________________________________\n",
      "Layer (type)                    Output Shape         Param #     Connected to                     \n",
      "==================================================================================================\n",
      "input_6 (InputLayer)            [(None, 4, 2)]       0                                            \n",
      "__________________________________________________________________________________________________\n",
      "input_5 (InputLayer)            [(None, 5)]          0                                            \n",
      "__________________________________________________________________________________________________\n",
      "lstm_1 (LSTM)                   (None, 4, 32)        4480        input_6[0][0]                    \n",
      "__________________________________________________________________________________________________\n",
      "denselayer1 (Dense)             (None, 5)            30          input_5[0][0]                    \n",
      "__________________________________________________________________________________________________\n",
      "lstm_2 (LSTM)                   (None, 4, 32)        8320        lstm_1[0][0]                     \n",
      "__________________________________________________________________________________________________\n",
      "denselayer2 (Dense)             (None, 16)           96          denselayer1[0][0]                \n",
      "__________________________________________________________________________________________________\n",
      "lstm_3 (LSTM)                   (None, 4, 32)        8320        lstm_2[0][0]                     \n",
      "__________________________________________________________________________________________________\n",
      "denselayer3 (Dense)             (None, 16)           272         denselayer2[0][0]                \n",
      "__________________________________________________________________________________________________\n",
      "lstm_4 (LSTM)                   (None, 32)           8320        lstm_3[0][0]                     \n",
      "__________________________________________________________________________________________________\n",
      "denselayer4 (Dense)             (None, 16)           272         denselayer3[0][0]                \n",
      "__________________________________________________________________________________________________\n",
      "denselayer_after_lstm_1 (Dense) (None, 32)           1056        lstm_4[0][0]                     \n",
      "__________________________________________________________________________________________________\n",
      "concatenate_1 (Concatenate)     (None, 48)           0           denselayer4[0][0]                \n",
      "                                                                 denselayer_after_lstm_1[0][0]    \n",
      "__________________________________________________________________________________________________\n",
      "dense (Dense)                   (None, 48)           2352        concatenate_1[0][0]              \n",
      "__________________________________________________________________________________________________\n",
      "dense_1 (Dense)                 (None, 32)           1568        dense[0][0]                      \n",
      "__________________________________________________________________________________________________\n",
      "dense_2 (Dense)                 (None, 32)           1056        dense_1[0][0]                    \n",
      "__________________________________________________________________________________________________\n",
      "dense_3 (Dense)                 (None, 1)            33          dense_2[0][0]                    \n",
      "==================================================================================================\n",
      "Total params: 36,175\n",
      "Trainable params: 36,175\n",
      "Non-trainable params: 0\n",
      "__________________________________________________________________________________________________\n"
     ]
    }
   ],
   "source": [
    "model.summary()"
   ]
  },
  {
   "cell_type": "code",
   "execution_count": 34,
   "metadata": {},
   "outputs": [
    {
     "name": "stdout",
     "output_type": "stream",
     "text": [
      "[INFO] training model...\n",
      "Epoch 1/20\n",
      "123/123 [==============================] - 3s 25ms/step - loss: 0.0401 - val_loss: 0.0425\n",
      "Epoch 2/20\n",
      "123/123 [==============================] - 1s 10ms/step - loss: 0.0373 - val_loss: 0.0362\n",
      "Epoch 3/20\n",
      "123/123 [==============================] - 1s 9ms/step - loss: 0.0374 - val_loss: 0.0366\n",
      "Epoch 4/20\n",
      "123/123 [==============================] - 1s 9ms/step - loss: 0.0365 - val_loss: 0.0353\n",
      "Epoch 5/20\n",
      "123/123 [==============================] - 1s 10ms/step - loss: 0.0365 - val_loss: 0.0348\n",
      "Epoch 6/20\n",
      "123/123 [==============================] - 1s 9ms/step - loss: 0.0353 - val_loss: 0.0344\n",
      "Epoch 7/20\n",
      "123/123 [==============================] - 1s 9ms/step - loss: 0.0361 - val_loss: 0.0341\n",
      "Epoch 8/20\n",
      "123/123 [==============================] - 1s 9ms/step - loss: 0.0350 - val_loss: 0.0339\n",
      "Epoch 9/20\n",
      "123/123 [==============================] - 1s 9ms/step - loss: 0.0340 - val_loss: 0.0357\n",
      "Epoch 10/20\n",
      "123/123 [==============================] - 1s 8ms/step - loss: 0.0335 - val_loss: 0.0333\n",
      "Epoch 11/20\n",
      "123/123 [==============================] - 1s 10ms/step - loss: 0.0331 - val_loss: 0.0311\n",
      "Epoch 12/20\n",
      "123/123 [==============================] - 1s 10ms/step - loss: 0.0330 - val_loss: 0.0328\n",
      "Epoch 13/20\n",
      "123/123 [==============================] - 1s 9ms/step - loss: 0.0317 - val_loss: 0.0309\n",
      "Epoch 14/20\n",
      "123/123 [==============================] - 1s 9ms/step - loss: 0.0319 - val_loss: 0.0307\n",
      "Epoch 15/20\n",
      "123/123 [==============================] - 1s 10ms/step - loss: 0.0313 - val_loss: 0.0347\n",
      "Epoch 16/20\n",
      "123/123 [==============================] - 1s 10ms/step - loss: 0.0318 - val_loss: 0.0322\n",
      "Epoch 17/20\n",
      "123/123 [==============================] - 1s 8ms/step - loss: 0.0312 - val_loss: 0.0301\n",
      "Epoch 18/20\n",
      "123/123 [==============================] - 1s 9ms/step - loss: 0.0309 - val_loss: 0.0299\n",
      "Epoch 19/20\n",
      "123/123 [==============================] - 1s 10ms/step - loss: 0.0314 - val_loss: 0.0313\n",
      "Epoch 20/20\n",
      "123/123 [==============================] - 1s 9ms/step - loss: 0.0305 - val_loss: 0.0300\n"
     ]
    }
   ],
   "source": [
    "opt = tf.keras.optimizers.Adam(lr=1e-3, decay=0.0001)\n",
    "model.compile(loss=\"mean_absolute_error\", optimizer=opt)\n",
    "# train the model\n",
    "print(\"[INFO] training model...\")\n",
    "model.fit(x=[data1_tf, data2_tf], y=trainanswers_tf,validation_split=0.22,epochs=20, batch_size=128)\n",
    "# make predictions on the testing data\n",
    "preds = model.predict([testdata1_tf, testdata2_tf])"
   ]
  },
  {
   "cell_type": "code",
   "execution_count": 35,
   "metadata": {},
   "outputs": [],
   "source": [
    "import numpy as np\n",
    "loss=tf.keras.metrics.mean_absolute_error(\n",
    "    testanswers_tf, preds\n",
    ")"
   ]
  },
  {
   "cell_type": "code",
   "execution_count": 36,
   "metadata": {},
   "outputs": [
    {
     "data": {
      "text/plain": [
       "0.04525489"
      ]
     },
     "execution_count": 36,
     "metadata": {},
     "output_type": "execute_result"
    }
   ],
   "source": [
    "np.mean(loss)"
   ]
  },
  {
   "cell_type": "code",
   "execution_count": 37,
   "metadata": {},
   "outputs": [
    {
     "data": {
      "image/png": "[encoded data removed]",
      "text/plain": [
       "<Figure size 432x288 with 1 Axes>"
      ]
     },
     "metadata": {
      "needs_background": "light"
     },
     "output_type": "display_data"
    }
   ],
   "source": [
    "import matplotlib.pyplot as plt\n",
    "outs=(preds-testanswers_tf).numpy()\n",
    "plt.hist(outs)\n",
    "\n",
    "plt.show()"
   ]
  },
  {
   "cell_type": "code",
   "execution_count": null,
   "metadata": {},
   "outputs": [],
   "source": []
  },
  {
   "cell_type": "code",
   "execution_count": null,
   "metadata": {},
   "outputs": [],
   "source": []
  }
 ],
 "metadata": {
  "kernelspec": {
   "display_name": "Python 3 (ipykernel)",
   "language": "python",
   "name": "python3"
  },
  "language_info": {
   "codemirror_mode": {
    "name": "ipython",
    "version": 3
   },
   "file_extension": ".py",
   "mimetype": "text/x-python",
   "name": "python",
   "nbconvert_exporter": "python",
   "pygments_lexer": "ipython3",
   "version": "3.8.12"
  }
 },
 "nbformat": 4,
 "nbformat_minor": 4
}
